{
  "nbformat": 4,
  "nbformat_minor": 0,
  "metadata": {
    "colab": {
      "name": "Btp_neural_net_czech.ipynb",
      "provenance": [],
      "mount_file_id": "1BnRCrWT8_yLO0NLZ85YWlQtiznNkf1Ip",
      "authorship_tag": "ABX9TyPtfeSqKXQdzDZGbuULavjc",
      "include_colab_link": true
    },
    "kernelspec": {
      "name": "python3",
      "display_name": "Python 3"
    },
    "language_info": {
      "name": "python"
    },
    "accelerator": "GPU"
  },
  "cells": [
    {
      "cell_type": "markdown",
      "metadata": {
        "id": "view-in-github",
        "colab_type": "text"
      },
      "source": [
        "<a href=\"https://colab.research.google.com/github/kavyanshgangwar/Machine-Translation-Quality-Estimation/blob/main/Btp_neural_net_czech.ipynb\" target=\"_parent\"><img src=\"https://colab.research.google.com/assets/colab-badge.svg\" alt=\"Open In Colab\"/></a>"
      ]
    },
    {
      "cell_type": "code",
      "metadata": {
        "id": "xJNzSJ-gRlM7"
      },
      "source": [
        "FINAL_SCORE = '/content/drive/MyDrive/Colab Notebooks/btp/train.smt.hter'\n",
        "TRAIN_CZECH_MT = '/content/drive/MyDrive/Colab Notebooks/btp/train.smt.mt'\n",
        "TRAIN_CZECH_REF = '/content/drive/MyDrive/Colab Notebooks/btp/train.smt.ref'\n",
        "TRAIN_ENGLISH_SOURCE = '/content/drive/MyDrive/Colab Notebooks/btp/train.smt.src'\n",
        "TEST_SCORE = '/content/drive/MyDrive/Colab Notebooks/btp/dev.smt.hter'\n",
        "TEST_CZECH_MT = '/content/drive/MyDrive/Colab Notebooks/btp/dev.smt.mt'\n",
        "TEST_CZECH_REF = '/content/drive/MyDrive/Colab Notebooks/btp/dev.smt.ref'\n",
        "TEST_ENGLISH_SOURCE = '/content/drive/MyDrive/Colab Notebooks/btp/dev.smt.src'"
      ],
      "execution_count": null,
      "outputs": []
    },
    {
      "cell_type": "code",
      "metadata": {
        "id": "UKDZn_UYy5Lu"
      },
      "source": [
        "import numpy as np\n",
        "import pandas as pd\n",
        "import tensorflow as tf"
      ],
      "execution_count": null,
      "outputs": []
    },
    {
      "cell_type": "code",
      "metadata": {
        "id": "skBE5arg85o5"
      },
      "source": [
        "def process(filename):\n",
        "  with open(filename,'r') as f:\n",
        "    a = f.readlines()\n",
        "  for i in range(len(a)):\n",
        "    a[i] = a[i][0:len(a[i])-1]\n",
        "  for i in range(len(a)):\n",
        "    a[i]=a[i].split()\n",
        "  cnt = 1\n",
        "  word_to_index_english = {}\n",
        "  for x in a:\n",
        "    for y in x:\n",
        "      if word_to_index_english.get(y) is None:\n",
        "        word_to_index_english[y]=cnt\n",
        "        cnt+=1\n",
        "  sentense_eng = 0\n",
        "  for x in a:\n",
        "    sentense_eng = max(sentense_eng,len(x))\n",
        "  ENGLISH_DATA = np.zeros((len(a),sentense_eng))\n",
        "  for i in range(len(a)):\n",
        "    for j in range(len(a[i])):\n",
        "      ENGLISH_DATA[i][j] = word_to_index_english[a[i][j]]\n",
        "  return ENGLISH_DATA,word_to_index_english"
      ],
      "execution_count": null,
      "outputs": []
    },
    {
      "cell_type": "code",
      "metadata": {
        "id": "khuq6CFzOyqp"
      },
      "source": [
        "def process_test(filename,word_index,train):\n",
        "  with open(filename,'r') as f:\n",
        "    a = f.readlines()\n",
        "  for i in range(len(a)):\n",
        "    a[i]=a[i][0:len(a[i])-1]\n",
        "  for i in range(len(a)):\n",
        "    a[i]=a[i].split()\n",
        "  DATA = np.zeros((len(a),train.shape[1]))\n",
        "  unknown = max(word_index.values())+1\n",
        "  for i in range(len(a)):\n",
        "    for j in range(min(len(a[i]),train.shape[1])):\n",
        "      if word_index.get(a[i][j]) is None:\n",
        "        DATA[i][j] = unknown\n",
        "      else:\n",
        "        DATA[i][j] = word_index[a[i][j]]\n",
        "  return DATA"
      ],
      "execution_count": null,
      "outputs": []
    },
    {
      "cell_type": "code",
      "metadata": {
        "id": "d-zjttZmBO2f"
      },
      "source": [
        "def process_czech(filename1,filename2):\n",
        "  with open(filename1,'r') as f:\n",
        "    a = f.readlines()\n",
        "  with open(filename2,'r') as f:\n",
        "    b = f.readlines()\n",
        "  for i in range(len(a)):\n",
        "    a[i] = a[i][0:len(a[i])-1]\n",
        "  for i in range(len(a)):\n",
        "    a[i]=a[i].split()\n",
        "  for i in range(len(b)):\n",
        "    b[i] =b[i][0:len(b[i])-1]\n",
        "  for i in range(len(b)):\n",
        "    b[i]=b[i].split()\n",
        "  cnt = 1\n",
        "  word_to_index = {}\n",
        "  for x in a:\n",
        "    for y in x:\n",
        "      if word_to_index.get(y) is None:\n",
        "        word_to_index[y]=cnt\n",
        "        cnt+=1\n",
        "  for x in b:\n",
        "    for y in x:\n",
        "      if word_to_index.get(y) is None:\n",
        "        word_to_index[y]=cnt\n",
        "        cnt+=1\n",
        "  sentense_eng = 0\n",
        "  for x in a:\n",
        "    sentense_eng = max(sentense_eng,len(x))\n",
        "  DATA = np.zeros((len(a),sentense_eng))\n",
        "  for i in range(len(a)):\n",
        "    for j in range(len(a[i])):\n",
        "      DATA[i][j] = word_to_index[a[i][j]]\n",
        "  sentense_1 = 0\n",
        "  for x in b:\n",
        "    sentense_1 = max(sentense_1,len(x))\n",
        "  DATA1 = np.zeros((len(b),sentense_1))\n",
        "  for i in range(len(b)):\n",
        "    for j in range(len(b[i])):\n",
        "      DATA1[i][j] = word_to_index[b[i][j]]\n",
        "  return DATA,DATA1,word_to_index"
      ],
      "execution_count": null,
      "outputs": []
    },
    {
      "cell_type": "code",
      "metadata": {
        "id": "OJUxu6Yx9fSQ"
      },
      "source": [
        "ENGLISH_TRAIN_DATA,word_to_index_english = process(TRAIN_ENGLISH_SOURCE)\n",
        "CZECH_TRAIN_REF_DATA,CZECH_TRAIN_MT_DATA,word_to_index_czech = process_czech(TRAIN_CZECH_REF,TRAIN_CZECH_MT)"
      ],
      "execution_count": null,
      "outputs": []
    },
    {
      "cell_type": "code",
      "metadata": {
        "id": "kEZ0xITaQ7y1"
      },
      "source": [
        "ENGLISH_TEST_DATA = process_test(TEST_ENGLISH_SOURCE,word_to_index_english,ENGLISH_TRAIN_DATA)\n",
        "CZECH_TEST_REF_DATA = process_test(TEST_CZECH_REF,word_to_index_czech,CZECH_TRAIN_REF_DATA)\n",
        "CZECH_TEST_MT_DATA = process_test(TEST_CZECH_MT,word_to_index_czech,CZECH_TRAIN_MT_DATA)\n",
        "TEST_HTER_SCORE = pd.read_csv(TEST_SCORE,header=None)"
      ],
      "execution_count": null,
      "outputs": []
    },
    {
      "cell_type": "code",
      "metadata": {
        "colab": {
          "base_uri": "https://localhost:8080/"
        },
        "id": "jGa1W3UAAqV3",
        "outputId": "90e15b9d-1e69-440e-ee12-1f0d47606273"
      },
      "source": [
        "len(word_to_index_czech)"
      ],
      "execution_count": null,
      "outputs": [
        {
          "output_type": "execute_result",
          "data": {
            "text/plain": [
              "51941"
            ]
          },
          "metadata": {},
          "execution_count": 8
        }
      ]
    },
    {
      "cell_type": "code",
      "metadata": {
        "id": "BD7cIKlbNnFs"
      },
      "source": [
        "HTER_SCORE = pd.read_csv(FINAL_SCORE,header=None)"
      ],
      "execution_count": null,
      "outputs": []
    },
    {
      "cell_type": "code",
      "metadata": {
        "colab": {
          "base_uri": "https://localhost:8080/",
          "height": 417
        },
        "id": "Bev6QPGrNzvd",
        "outputId": "b3b0bc53-5f42-42bd-be84-cb5500649246"
      },
      "source": [
        "HTER_SCORE"
      ],
      "execution_count": null,
      "outputs": [
        {
          "output_type": "execute_result",
          "data": {
            "text/html": [
              "<div>\n",
              "<style scoped>\n",
              "    .dataframe tbody tr th:only-of-type {\n",
              "        vertical-align: middle;\n",
              "    }\n",
              "\n",
              "    .dataframe tbody tr th {\n",
              "        vertical-align: top;\n",
              "    }\n",
              "\n",
              "    .dataframe thead th {\n",
              "        text-align: right;\n",
              "    }\n",
              "</style>\n",
              "<table border=\"1\" class=\"dataframe\">\n",
              "  <thead>\n",
              "    <tr style=\"text-align: right;\">\n",
              "      <th></th>\n",
              "      <th>0</th>\n",
              "    </tr>\n",
              "  </thead>\n",
              "  <tbody>\n",
              "    <tr>\n",
              "      <th>0</th>\n",
              "      <td>0.454545</td>\n",
              "    </tr>\n",
              "    <tr>\n",
              "      <th>1</th>\n",
              "      <td>0.347826</td>\n",
              "    </tr>\n",
              "    <tr>\n",
              "      <th>2</th>\n",
              "      <td>0.538462</td>\n",
              "    </tr>\n",
              "    <tr>\n",
              "      <th>3</th>\n",
              "      <td>0.500000</td>\n",
              "    </tr>\n",
              "    <tr>\n",
              "      <th>4</th>\n",
              "      <td>0.500000</td>\n",
              "    </tr>\n",
              "    <tr>\n",
              "      <th>...</th>\n",
              "      <td>...</td>\n",
              "    </tr>\n",
              "    <tr>\n",
              "      <th>40249</th>\n",
              "      <td>0.684211</td>\n",
              "    </tr>\n",
              "    <tr>\n",
              "      <th>40250</th>\n",
              "      <td>0.347826</td>\n",
              "    </tr>\n",
              "    <tr>\n",
              "      <th>40251</th>\n",
              "      <td>0.066667</td>\n",
              "    </tr>\n",
              "    <tr>\n",
              "      <th>40252</th>\n",
              "      <td>0.291667</td>\n",
              "    </tr>\n",
              "    <tr>\n",
              "      <th>40253</th>\n",
              "      <td>0.176471</td>\n",
              "    </tr>\n",
              "  </tbody>\n",
              "</table>\n",
              "<p>40254 rows × 1 columns</p>\n",
              "</div>"
            ],
            "text/plain": [
              "              0\n",
              "0      0.454545\n",
              "1      0.347826\n",
              "2      0.538462\n",
              "3      0.500000\n",
              "4      0.500000\n",
              "...         ...\n",
              "40249  0.684211\n",
              "40250  0.347826\n",
              "40251  0.066667\n",
              "40252  0.291667\n",
              "40253  0.176471\n",
              "\n",
              "[40254 rows x 1 columns]"
            ]
          },
          "metadata": {},
          "execution_count": 10
        }
      ]
    },
    {
      "cell_type": "code",
      "metadata": {
        "colab": {
          "base_uri": "https://localhost:8080/"
        },
        "id": "NSJvMHSS-Crw",
        "outputId": "da81e0a0-2711-489a-e79a-dfed373cd657"
      },
      "source": [
        "CZECH_TRAIN_MT_DATA.shape"
      ],
      "execution_count": null,
      "outputs": [
        {
          "output_type": "execute_result",
          "data": {
            "text/plain": [
              "(40254, 133)"
            ]
          },
          "metadata": {},
          "execution_count": 11
        }
      ]
    },
    {
      "cell_type": "code",
      "metadata": {
        "id": "aHvxMJWX9pCO"
      },
      "source": [
        "from tensorflow.keras.layers import Lambda,Input, Embedding, Bidirectional, LSTM, Concatenate, Dense\n",
        "from tensorflow.keras.models import Model\n",
        "from tensorflow import keras\n",
        "from tensorflow.keras.metrics import RootMeanSquaredError,MeanAbsoluteError\n",
        "from keras.callbacks import ModelCheckpoint\n",
        "import tensorflow_probability as tfp"
      ],
      "execution_count": null,
      "outputs": []
    },
    {
      "cell_type": "code",
      "metadata": {
        "id": "joxNWyoSDu3y"
      },
      "source": [
        "filepath = '/content/drive/MyDrive/Colab Notebooks/btp/my_best_model.epoch{epoch:02d}-loss{val_loss:.2f}.hdf5'\n",
        "checkpoint = ModelCheckpoint(filepath=filepath, \n",
        "                             monitor='val_loss',\n",
        "                             verbose=1, \n",
        "                             save_best_only=True,\n",
        "                             mode='min')\n"
      ],
      "execution_count": null,
      "outputs": []
    },
    {
      "cell_type": "code",
      "metadata": {
        "colab": {
          "base_uri": "https://localhost:8080/",
          "height": 212
        },
        "id": "UzMiHmJRADy4",
        "outputId": "b8efe3d3-ecfd-4eef-8eb7-1119ae97f12f"
      },
      "source": [
        "english_input = Input(shape=ENGLISH_TRAIN_DATA.shape[1])\n",
        "english_embeddings = Embedding(len(word_to_index_english)+2,100)(english_input)\n",
        "english = Bidirectional(LSTM(128,return_sequences=True))(english_embeddings)\n",
        "english = LSTM(128)(english)\n",
        "czech_ref_input = Input(shape=CZECH_TRAIN_REF_DATA.shape[1])\n",
        "czech_mt_input = Input(shape=CZECH_TRAIN_MT_DATA.shape[1])\n",
        "czech_input = Concatenate()([czech_mt_input,czech_ref_input])\n",
        "czech_embeddings = Embedding(len(word_to_index_czech)+2,100)(czech_input)\n",
        "czech_ref = Lambda(lambda czech_embeddings: czech_embeddings[:,:54,:])(czech_embeddings)\n",
        "czech_mt = Lambda(lambda czech_embeddings: czech_embeddings[:,54:,:])(czech_embeddings)\n",
        "\n",
        "czech_ref = Bidirectional(LSTM(128,return_sequences=True))(czech_ref)\n",
        "czech_ref = LSTM(128)(czech_ref)\n",
        "czech_mt = Bidirectional(LSTM(128,return_sequences=True))(czech_mt)\n",
        "czech_mt = LSTM(128)(czech_mt)\n",
        "x = Concatenate()([czech_ref,czech_mt,english])\n",
        "x = Dense(64,activation='relu')(x)\n",
        "x = Dense(32,activation='relu')(x)\n",
        "x = Dense(8,activation='relu')(x)\n",
        "x = Dense(1,activation='relu')(x)\n",
        "model = Model([english_input,czech_ref_input,czech_mt_input],x)\n",
        "\n",
        "model.compile(optimizer='adam',loss='mean_absolute_error',metrics=[MeanAbsoluteError(),RootMeanSquaredError()])\n",
        "model.summary()"
      ],
      "execution_count": null,
      "outputs": [
        {
          "output_type": "error",
          "ename": "TypeError",
          "evalue": "ignored",
          "traceback": [
            "\u001b[0;31m---------------------------------------------------------------------------\u001b[0m",
            "\u001b[0;31mTypeError\u001b[0m                                 Traceback (most recent call last)",
            "\u001b[0;32m<ipython-input-16-6e2481607a1e>\u001b[0m in \u001b[0;36m<module>\u001b[0;34m()\u001b[0m\n\u001b[1;32m     21\u001b[0m \u001b[0mmodel\u001b[0m \u001b[0;34m=\u001b[0m \u001b[0mModel\u001b[0m\u001b[0;34m(\u001b[0m\u001b[0;34m[\u001b[0m\u001b[0menglish_input\u001b[0m\u001b[0;34m,\u001b[0m\u001b[0mczech_ref_input\u001b[0m\u001b[0;34m,\u001b[0m\u001b[0mczech_mt_input\u001b[0m\u001b[0;34m]\u001b[0m\u001b[0;34m,\u001b[0m\u001b[0mx\u001b[0m\u001b[0;34m)\u001b[0m\u001b[0;34m\u001b[0m\u001b[0;34m\u001b[0m\u001b[0m\n\u001b[1;32m     22\u001b[0m \u001b[0;34m\u001b[0m\u001b[0m\n\u001b[0;32m---> 23\u001b[0;31m \u001b[0mmodel\u001b[0m\u001b[0;34m.\u001b[0m\u001b[0mcompile\u001b[0m\u001b[0;34m(\u001b[0m\u001b[0moptimizer\u001b[0m\u001b[0;34m=\u001b[0m\u001b[0;34m'adam'\u001b[0m\u001b[0;34m,\u001b[0m\u001b[0mloss\u001b[0m\u001b[0;34m=\u001b[0m\u001b[0;34m'mean_absolute_error'\u001b[0m\u001b[0;34m,\u001b[0m\u001b[0mmetrics\u001b[0m\u001b[0;34m=\u001b[0m\u001b[0;34m[\u001b[0m\u001b[0mMeanAbsoluteError\u001b[0m\u001b[0;34m(\u001b[0m\u001b[0;34m)\u001b[0m\u001b[0;34m,\u001b[0m\u001b[0mRootMeanSquaredError\u001b[0m\u001b[0;34m(\u001b[0m\u001b[0;34m)\u001b[0m\u001b[0;34m,\u001b[0m\u001b[0mtfp\u001b[0m\u001b[0;34m.\u001b[0m\u001b[0mstats\u001b[0m\u001b[0;34m.\u001b[0m\u001b[0mcorrelation\u001b[0m\u001b[0;34m(\u001b[0m\u001b[0;34m)\u001b[0m\u001b[0;34m]\u001b[0m\u001b[0;34m)\u001b[0m\u001b[0;34m\u001b[0m\u001b[0;34m\u001b[0m\u001b[0m\n\u001b[0m\u001b[1;32m     24\u001b[0m \u001b[0mmodel\u001b[0m\u001b[0;34m.\u001b[0m\u001b[0msummary\u001b[0m\u001b[0;34m(\u001b[0m\u001b[0;34m)\u001b[0m\u001b[0;34m\u001b[0m\u001b[0;34m\u001b[0m\u001b[0m\n",
            "\u001b[0;31mTypeError\u001b[0m: correlation() missing 1 required positional argument: 'x'"
          ]
        }
      ]
    },
    {
      "cell_type": "code",
      "metadata": {
        "id": "6LHSnC4TNMou"
      },
      "source": [
        "r = model.fit(x=[ENGLISH_TRAIN_DATA,CZECH_TRAIN_REF_DATA,CZECH_TRAIN_MT_DATA],y=HTER_SCORE,epochs=20,validation_data=([ENGLISH_TEST_DATA,CZECH_TEST_REF_DATA,CZECH_TEST_MT_DATA],TEST_HTER_SCORE),callbacks=[checkpoint])"
      ],
      "execution_count": null,
      "outputs": []
    },
    {
      "cell_type": "code",
      "metadata": {
        "id": "s9MMOAlXBUC6"
      },
      "source": [
        "model.save_weights('/content/drive/MyDrive/Colab Notebooks/btp/czech-model')"
      ],
      "execution_count": null,
      "outputs": []
    },
    {
      "cell_type": "code",
      "metadata": {
        "id": "tYau4noiCTzq"
      },
      "source": [
        ""
      ],
      "execution_count": null,
      "outputs": []
    }
  ]
}